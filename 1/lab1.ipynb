{
 "cells": [
  {
   "cell_type": "markdown",
   "metadata": {},
   "source": [
    "# ЛАБОРАТОРНАЯ РАБОТА 1\n",
    "### ПОСТРОЕНИЕ И ИССЛЕДОВАНИЕ ХАРАКТЕРИСТИК ДАТЧИКОВ БАЗОВЫХ СЛУЧАЙНЫХ ВЕЛИЧИН"
   ]
  },
  {
   "cell_type": "code",
   "execution_count": 1,
   "metadata": {},
   "outputs": [],
   "source": [
    "import numpy as np\n",
    "%matplotlib inline \n",
    "import matplotlib.pyplot as plt\n",
    "import sys\n",
    "#np.random.seed(42)"
   ]
  },
  {
   "cell_type": "markdown",
   "metadata": {},
   "source": [
    "# Метод середины квадрата\n",
    "Метод середины квадрата предложен для получения псевдослучайных\n",
    "чисел Д. фон Нейманом в 1946 г. Вот один из вариантов этого метода.\n",
    "1. Возьмем произвольное 4-значное число.\n",
    "2. Возведем полученное число в квадрат и, если необходимо,\n",
    "добавим к результату слева нули до 8-значного числа.\n",
    "3. Возьмем четыре цифры из середины 8-значного в качестве нового\n",
    "случайного 4-значного числа.\n",
    "4. Если нужны еще случайные числа, то перейдем к 2. "
   ]
  },
  {
   "cell_type": "code",
   "execution_count": 2,
   "metadata": {},
   "outputs": [],
   "source": [
    "def middleSquareMethod(n = 100):\n",
    "    middle_square_arr = np.zeros((n))\n",
    "    random_var = np.random.randint(1000,9999)\n",
    "    \n",
    "    for i in range(n):\n",
    "        square_var = np.power(random_var,2)\n",
    "        if len(str(square_var)) < 8:\n",
    "            square_var = (8 - len(str(square_var))) * '0' + str(square_var)\n",
    "        buffer = str(square_var)\n",
    "        middle_square_arr[i] = int(buffer[2:6])/10000\n",
    "        random_var = (int(buffer[2:6]))\n",
    "    #print(middle_square_arr)\n",
    "    return middle_square_arr"
   ]
  },
  {
   "cell_type": "markdown",
   "metadata": {},
   "source": [
    "------\n",
    "# Мультипликативный конгруэнтный метод"
   ]
  },
  {
   "cell_type": "markdown",
   "metadata": {},
   "source": [
    "Так называемый мультипликативный конгруэнтный датчик БСВ задается\n",
    "двумя параметрами: модулем m и множителем k. Обычно это достаточно\n",
    "большие целые числа.\n",
    "При заданных m, k числа z1, z2, ..., вычиcляются по рекуррентной формуле:\n",
    "Ai = (kAi -1) mod m, i = 1, 2,...,\n",
    "zi = Ai / m,\n",
    "где m − модуль, k − множитель, A0 − начальное значение, mod − операция\n",
    "вычисления остатка от деления kAi -1 на m.  \n",
    "Таким образом, A1 определяется как остаток от деления kA0 на m; A2 -\n",
    "как остаток от деления kA1 на m и т.д. Поскольку все числа Ai − это остатки от\n",
    "деления на m, то 0 ≤ Ai < m. Разделив последнее неравенство на m, видим, что\n",
    "0 ≤ Ai / m< 1, т. е. 0 ≤ zi <1."
   ]
  },
  {
   "cell_type": "code",
   "execution_count": 3,
   "metadata": {},
   "outputs": [],
   "source": [
    "def multiplicativeCongruentMethod(n = 100, m = 1117, k = 1113, A = 7):\n",
    "    mm_arr = np.zeros((int(n)))\n",
    "    for i in range(n):\n",
    "        A = np.mod(k*A,m)\n",
    "        mm_arr[i] = A\n",
    "    mm_arr = np.divide(mm_arr,np.amax(mm_arr))\n",
    "    #print(mm_arr)\n",
    "    return mm_arr"
   ]
  },
  {
   "cell_type": "markdown",
   "metadata": {},
   "source": [
    "---\n",
    "# Тестирование равномерности"
   ]
  },
  {
   "cell_type": "markdown",
   "metadata": {},
   "source": [
    "1. Разобьем интервал (0,1) на K равных отрезков (например, K = 10).\n",
    "2. Сгенерируем n чисел z1,..., zn с помощью тестируемого датчика БСВ\n",
    "(например, n = 100).\n",
    "3. Подсчитаем, сколько чисел попало в каждый из k отрезков, т.е. найдем\n",
    "числа попаданий n1,...,nk. \n",
    "4. Рассчитаем относительные частоты попаданий в отрезки:\n",
    "5. Построим гистограмму частот на K отрезках интервала (0,1).\n",
    "6. Повторим действия (2) − (5) для большего значения n (например, для n\n",
    "=10 000).\n",
    "7. Оценим по полученным гистограммам сходимость каждой частоты\n",
    "к вероятности p = 1/K того, что БСВ попадет в i-й отрезок. Согласно\n",
    "закону больших чисел должно быть"
   ]
  },
  {
   "cell_type": "code",
   "execution_count": 4,
   "metadata": {},
   "outputs": [],
   "source": [
    "def histDataPreparation(n, arr, step = 10):\n",
    "    interval_number = 0\n",
    "    intervals = np.arange(0, 1.1, 1/(step))\n",
    "    intervals_stat = np.zeros((step))\n",
    "    arr_sorted = np.sort(arr)\n",
    "    \n",
    "    for counter in range(n):\n",
    "\n",
    "        if interval_number < step - 1:\n",
    "            if arr_sorted[counter] >= intervals[interval_number + 1]:\n",
    "                #while (mm_method[counter] > intervals[interval_number]) and (interval_number < step - 1 ):\n",
    "                interval_number += 1\n",
    "                intervals_stat[interval_number] += 1\n",
    "                continue\n",
    "        else:\n",
    "            intervals_stat[interval_number] += n - counter\n",
    "            break\n",
    "\n",
    "        if arr_sorted[counter] == intervals[interval_number]:\n",
    "            intervals_stat[interval_number] += 0.5\n",
    "            if interval_number > 0:\n",
    "                intervals_stat[interval_number - 1] += 0.5\n",
    "        elif (arr_sorted[counter] > intervals[interval_number]) and (arr_sorted[counter] < intervals[interval_number + 1]):\n",
    "            intervals_stat[interval_number] += 1\n",
    "        else:\n",
    "            print(\"smth got wrong\",  mm_method[counter], interval_number, intervals[interval_number])\n",
    "            #wtf_counter +=1\n",
    "            \n",
    "    return intervals, intervals_stat"
   ]
  },
  {
   "cell_type": "code",
   "execution_count": 5,
   "metadata": {},
   "outputs": [],
   "source": [
    "def buildHistogram(intervals_stat, step):\n",
    "    x = np.arange(0.1, 1.1, 1/(step))\n",
    "    width = 0.08\n",
    "    _, ax = plt.subplots(figsize=(15,5))\n",
    "    rects1 = ax.bar(x - width/2, intervals_stat, width, label=\"frequency\")\n",
    "\n",
    "    #ax.set_ylabel('cm')\n",
    "    ax.set_xticks(x)\n",
    "    ax.legend()\n",
    "    plt.show()\n",
    "    "
   ]
  },
  {
   "cell_type": "code",
   "execution_count": 6,
   "metadata": {},
   "outputs": [],
   "source": [
    "def uniformityTesting(n,arr,intervals_stat, step):\n",
    "    convergence_of_frequency = np.divide(intervals_stat, step)\n",
    "    expected_value = 1/n * (np.sum(arr))\n",
    "    dispersion = 1/n *np.sum((np.power(arr,2) - np.power(expected_value, 2)))\n",
    "    print(\"expected_value\", expected_value, \"dispersion\", dispersion)\n",
    "    \n",
    "    print(\"reference frequency\", 1/step)\n",
    "    print(\"intervals frequence\", np.divide(intervals_stat,n))\n",
    "    return expected_value, dispersion"
   ]
  },
  {
   "cell_type": "markdown",
   "metadata": {},
   "source": [
    "# Тестирование независимости\n",
    "Простейшую проверку статистической независимости реализаций z1, z2, ...,\n",
    "можно осуществить, оценивая корреляцию между числами zi и zi+ s,\n",
    "отстоящими друг от друга на шаг s >1.  \n",
    "Для вывода формулы, по которой можно рассчитать коэффициент\n",
    "корреляции чисел zi и zi+ s , рассмотрим две произвольные СВ x, y.\n",
    "Коэффициент корреляции определяется для них формулой: "
   ]
  },
  {
   "cell_type": "code",
   "execution_count": 7,
   "metadata": {},
   "outputs": [],
   "source": [
    "def shift(arr, num, fill_value=np.nan):\n",
    "    result = np.empty_like(arr)\n",
    "    if num > 0:\n",
    "        result[:num] = fill_value\n",
    "        result[num:] = arr[:-num]\n",
    "    elif num < 0:\n",
    "        result[num:] = fill_value\n",
    "        result[:num] = arr[-num:]\n",
    "    else:\n",
    "        result = arr\n",
    "\n",
    "    n = len(arr)\n",
    "    for i in range(num - 1, 0, -1):\n",
    "        result[i] = arr[n - i -1]\n",
    "    result[0] = arr[-1]\n",
    "    return result"
   ]
  },
  {
   "cell_type": "code",
   "execution_count": 8,
   "metadata": {},
   "outputs": [],
   "source": [
    "def correlationCalculating(arr, expected_value, dispersion, correlation_check_step=10):\n",
    "    shifted_array = shift(arr, correlation_check_step)\n",
    "\n",
    "    numerator = np.sum(arr - expected_value) * np.sum(shifted_array - expected_value)\n",
    "    denominator = np.sqrt( np.power(np.sum(arr - expected_value), 2) * np.power(np.sum(shifted_array - expected_value),2))\n",
    "\n",
    "    correlation = np.divide(numerator,denominator)\n",
    "    #print(numerator,denominator )\n",
    "    print(\"correlation\", correlation)"
   ]
  },
  {
   "cell_type": "markdown",
   "metadata": {},
   "source": [
    "# Lab itself\n",
    "It's time to call all functions step by step to see what we get"
   ]
  },
  {
   "cell_type": "code",
   "execution_count": 9,
   "metadata": {},
   "outputs": [
    {
     "data": {
      "text/plain": [
       "array([0.00358423, 0.00358423, 0.0062724 , 0.00896057, 0.00896057,\n",
       "       0.01075269, 0.01075269, 0.0188172 , 0.01971326, 0.01971326,\n",
       "       0.02060932, 0.02060932, 0.02240143, 0.02240143, 0.02688172,\n",
       "       0.02688172, 0.03225806, 0.03225806, 0.03315412, 0.03315412,\n",
       "       0.0421147 , 0.0421147 , 0.04659498, 0.04659498, 0.04749104,\n",
       "       0.04749104, 0.04928315, 0.04928315, 0.05645161, 0.05734767,\n",
       "       0.05734767, 0.05913978, 0.05913978, 0.06182796, 0.06182796,\n",
       "       0.0672043 , 0.0672043 , 0.07437276, 0.07437276, 0.08064516,\n",
       "       0.08064516, 0.08154122, 0.08154122, 0.09050179, 0.09050179,\n",
       "       0.09587814, 0.09677419, 0.09677419, 0.09946237, 0.09946237,\n",
       "       0.10035842, 0.10035842, 0.10125448, 0.10125448, 0.10842294,\n",
       "       0.10842294, 0.11111111, 0.11111111, 0.11648746, 0.1218638 ,\n",
       "       0.12634409, 0.12634409, 0.13620072, 0.13620072, 0.13978495,\n",
       "       0.13978495, 0.14247312, 0.14247312, 0.14336918, 0.14336918,\n",
       "       0.14695341, 0.14784946, 0.14784946, 0.16935484, 0.17114695,\n",
       "       0.17204301, 0.17204301, 0.17562724, 0.17562724, 0.17741935,\n",
       "       0.17741935, 0.17831541, 0.18548387, 0.18548387, 0.1890681 ,\n",
       "       0.1890681 , 0.19444444, 0.19444444, 0.19982079, 0.19982079,\n",
       "       0.2016129 , 0.2016129 , 0.2078853 , 0.21326165, 0.21326165,\n",
       "       0.21863799, 0.21863799, 0.22311828, 0.22311828, 0.22491039,\n",
       "       0.22491039, 0.22759857, 0.22759857, 0.23476703, 0.23476703,\n",
       "       0.23835125, 0.23835125, 0.24193548, 0.24193548, 0.24462366,\n",
       "       0.24462366, 0.24551971, 0.25089606, 0.25089606, 0.2562724 ,\n",
       "       0.2562724 , 0.25716846, 0.25716846, 0.25896057, 0.25896057,\n",
       "       0.26792115, 0.26792115, 0.27150538, 0.27150538, 0.27777778,\n",
       "       0.27777778, 0.28136201, 0.28136201, 0.28315412, 0.28315412,\n",
       "       0.28763441, 0.28942652, 0.28942652, 0.29032258, 0.29032258,\n",
       "       0.29121864, 0.29121864, 0.2921147 , 0.2921147 , 0.2983871 ,\n",
       "       0.2983871 , 0.30107527, 0.30376344, 0.30376344, 0.3046595 ,\n",
       "       0.3046595 , 0.30734767, 0.30734767, 0.30824373, 0.30824373,\n",
       "       0.31003584, 0.31003584, 0.31272401, 0.31272401, 0.31541219,\n",
       "       0.31541219, 0.31630824, 0.31899642, 0.31899642, 0.32168459,\n",
       "       0.32168459, 0.3234767 , 0.32437276, 0.32437276, 0.32526882,\n",
       "       0.32526882, 0.32885305, 0.32885305, 0.3297491 , 0.3297491 ,\n",
       "       0.33333333, 0.33333333, 0.34050179, 0.34050179, 0.34767025,\n",
       "       0.34767025, 0.34946237, 0.35842294, 0.35842294, 0.36379928,\n",
       "       0.36379928, 0.3655914 , 0.36738351, 0.36738351, 0.37903226,\n",
       "       0.37903226, 0.38261649, 0.390681  , 0.40860215, 0.40860215,\n",
       "       0.40949821, 0.40949821, 0.41308244, 0.41935484, 0.41935484,\n",
       "       0.42293907, 0.42293907, 0.42741935, 0.42741935, 0.43010753,\n",
       "       0.43010753, 0.43100358, 0.43100358, 0.43637993, 0.43637993,\n",
       "       0.4390681 , 0.43996416, 0.43996416, 0.44086022, 0.44086022,\n",
       "       0.44175627, 0.44175627, 0.44354839, 0.44354839, 0.44713262,\n",
       "       0.44713262, 0.45609319, 0.45609319, 0.47132616, 0.48028674,\n",
       "       0.48028674, 0.48566308, 0.48566308, 0.4937276 , 0.4937276 ,\n",
       "       0.49551971, 0.49551971, 0.49820789, 0.49820789, 0.50806452,\n",
       "       0.50896057, 0.50896057, 0.51344086, 0.51612903, 0.51612903,\n",
       "       0.51971326, 0.51971326, 0.52329749, 0.52598566, 0.52598566,\n",
       "       0.52688172, 0.52688172, 0.53046595, 0.53046595, 0.53225806,\n",
       "       0.53225806, 0.53315412, 0.53494624, 0.53942652, 0.54659498,\n",
       "       0.54659498, 0.54749104, 0.54749104, 0.55197133, 0.55645161,\n",
       "       0.55645161, 0.55824373, 0.55824373, 0.5672043 , 0.5672043 ,\n",
       "       0.56810036, 0.56810036, 0.56899642, 0.57706093, 0.57706093,\n",
       "       0.5797491 , 0.5797491 , 0.58333333, 0.58333333, 0.58691756,\n",
       "       0.59050179, 0.59050179, 0.59587814, 0.59587814, 0.59856631,\n",
       "       0.59946237, 0.59946237, 0.60304659, 0.60304659, 0.60394265,\n",
       "       0.60483871, 0.60483871, 0.60573477, 0.60573477, 0.60842294,\n",
       "       0.61111111, 0.61111111, 0.61379928, 0.61379928, 0.61738351,\n",
       "       0.61917563, 0.61917563, 0.62365591, 0.62724014, 0.62724014,\n",
       "       0.63888889, 0.63888889, 0.63978495, 0.63978495, 0.640681  ,\n",
       "       0.640681  , 0.64157706, 0.64157706, 0.65501792, 0.65591398,\n",
       "       0.65591398, 0.66845878, 0.66845878, 0.66935484, 0.66935484,\n",
       "       0.6702509 , 0.6702509 , 0.67383513, 0.67383513, 0.67473118,\n",
       "       0.67473118, 0.67831541, 0.67831541, 0.6827957 , 0.6827957 ,\n",
       "       0.68369176, 0.68369176, 0.68637993, 0.68637993, 0.69444444,\n",
       "       0.69444444, 0.70071685, 0.70071685, 0.70340502, 0.70340502,\n",
       "       0.70430108, 0.70430108, 0.70609319, 0.7078853 , 0.71505376,\n",
       "       0.71505376, 0.72580645, 0.72580645, 0.72670251, 0.73028674,\n",
       "       0.73028674, 0.73207885, 0.73207885, 0.73387097, 0.73387097,\n",
       "       0.73655914, 0.73835125, 0.73835125, 0.74014337, 0.74014337,\n",
       "       0.74551971, 0.74551971, 0.74910394, 0.75089606, 0.75089606,\n",
       "       0.75268817, 0.75268817, 0.75358423, 0.75358423, 0.75985663,\n",
       "       0.75985663, 0.76164875, 0.76164875, 0.76433692, 0.76433692,\n",
       "       0.7688172 , 0.7688172 , 0.76971326, 0.76971326, 0.77060932,\n",
       "       0.77060932, 0.77150538, 0.77150538, 0.77240143, 0.77240143,\n",
       "       0.77508961, 0.77688172, 0.77688172, 0.78315412, 0.78315412,\n",
       "       0.78673835, 0.78673835, 0.78853047, 0.78853047, 0.79480287,\n",
       "       0.79749104, 0.80376344, 0.80376344, 0.80824373, 0.80824373,\n",
       "       0.8109319 , 0.8109319 , 0.81272401, 0.81272401, 0.81362007,\n",
       "       0.81451613, 0.81451613, 0.81630824, 0.81630824, 0.82437276,\n",
       "       0.83243728, 0.83243728, 0.83333333, 0.83333333, 0.83691756,\n",
       "       0.83691756, 0.84050179, 0.84050179, 0.84408602, 0.84408602,\n",
       "       0.84498208, 0.84946237, 0.84946237, 0.85125448, 0.85663082,\n",
       "       0.85663082, 0.86290323, 0.86827957, 0.86827957, 0.86917563,\n",
       "       0.86917563, 0.87007168, 0.87096774, 0.87096774, 0.8718638 ,\n",
       "       0.8718638 , 0.87365591, 0.87365591, 0.87634409, 0.87634409,\n",
       "       0.88082437, 0.88082437, 0.890681  , 0.890681  , 0.89336918,\n",
       "       0.89336918, 0.89516129, 0.89516129, 0.89605735, 0.89605735,\n",
       "       0.89874552, 0.89874552, 0.90322581, 0.90949821, 0.91129032,\n",
       "       0.91129032, 0.91397849, 0.91397849, 0.91577061, 0.91577061,\n",
       "       0.91756272, 0.91756272, 0.91845878, 0.91845878, 0.92114695,\n",
       "       0.92114695, 0.92204301, 0.92204301, 0.92383513, 0.92383513,\n",
       "       0.92473118, 0.92473118, 0.92562724, 0.92831541, 0.92831541,\n",
       "       0.93010753, 0.93010753, 0.93817204, 0.93817204, 0.94623656,\n",
       "       0.94623656, 0.94892473, 0.95698925, 0.95698925, 0.9578853 ,\n",
       "       0.9578853 , 0.96415771, 0.96505376, 0.96505376, 0.96594982,\n",
       "       0.96594982, 0.96684588, 0.96684588, 0.97043011, 0.97311828,\n",
       "       0.97311828, 0.97580645, 0.97580645, 0.97670251, 0.97670251,\n",
       "       0.98655914, 0.98655914, 0.98924731, 0.98924731, 0.99283154,\n",
       "       0.99283154, 0.99820789, 0.99820789, 1.        , 1.        ])"
      ]
     },
     "execution_count": 9,
     "metadata": {},
     "output_type": "execute_result"
    }
   ],
   "source": [
    "n = 500\n",
    "mm_arr = multiplicativeCongruentMethod(n)\n",
    "np.sort(mm_arr)"
   ]
  },
  {
   "cell_type": "code",
   "execution_count": 10,
   "metadata": {},
   "outputs": [
    {
     "data": {
      "image/png": "[encoded data removed]",
      "text/plain": [
       "<Figure size 1080x360 with 1 Axes>"
      ]
     },
     "metadata": {
      "needs_background": "light"
     },
     "output_type": "display_data"
    }
   ],
   "source": [
    "step = 10\n",
    "%matplotlib inline \n",
    "intervals, intervals_stat = histDataPreparation(n, mm_arr, step)\n",
    "buildHistogram(intervals_stat, step)"
   ]
  },
  {
   "cell_type": "code",
   "execution_count": 11,
   "metadata": {},
   "outputs": [
    {
     "name": "stdout",
     "output_type": "stream",
     "text": [
      "expected_value 0.5228727598566308 dispersion 0.0866318660185506\n",
      "reference frequency 0.1\n",
      "intervals frequence [0.1   0.08  0.102 0.094 0.082 0.096 0.098 0.12  0.112 0.116]\n"
     ]
    }
   ],
   "source": [
    "expected_value, dispersion = uniformityTesting(n, mm_arr,intervals_stat, step)"
   ]
  },
  {
   "cell_type": "code",
   "execution_count": 12,
   "metadata": {},
   "outputs": [
    {
     "name": "stdout",
     "output_type": "stream",
     "text": [
      "correlation 1.0\n"
     ]
    }
   ],
   "source": [
    "correlation_check_step=55\n",
    "correlationCalculating(mm_arr, expected_value, dispersion, correlation_check_step)"
   ]
  },
  {
   "cell_type": "code",
   "execution_count": 13,
   "metadata": {},
   "outputs": [
    {
     "data": {
      "text/plain": [
       "array([[1.        , 0.00920638],\n",
       "       [0.00920638, 1.        ]])"
      ]
     },
     "execution_count": 13,
     "metadata": {},
     "output_type": "execute_result"
    }
   ],
   "source": [
    "shifted_array = shift(mm_arr, correlation_check_step)  #correlation double checke in case of any mictaces in my code \n",
    "np.corrcoef(mm_arr, shifted_array)  # seems everything is fine"
   ]
  },
  {
   "cell_type": "markdown",
   "metadata": {},
   "source": [
    "# Testing\n",
    "\n",
    "Now lets test generator with different n for *Multiplicative Congruent Method*"
   ]
  },
  {
   "cell_type": "code",
   "execution_count": 14,
   "metadata": {},
   "outputs": [],
   "source": [
    "def lab1(n, arr):\n",
    "    arr_sorted = np.sort(arr)\n",
    "    step = 10\n",
    "    intervals, intervals_stat = histDataPreparation(n, arr_sorted, step)\n",
    "    buildHistogram(intervals_stat, step)\n",
    "    expected_value, dispersion = uniformityTesting(n, arr,intervals_stat, step)\n",
    "    correlation_check_step= int(n/2)\n",
    "    correlationCalculating(arr, expected_value, dispersion, correlation_check_step)"
   ]
  },
  {
   "cell_type": "code",
   "execution_count": 15,
   "metadata": {},
   "outputs": [
    {
     "name": "stdout",
     "output_type": "stream",
     "text": [
      "\n",
      "n = 10\n"
     ]
    },
    {
     "data": {
      "image/png": "[encoded data removed]",
      "text/plain": [
       "<Figure size 1080x360 with 1 Axes>"
      ]
     },
     "metadata": {
      "needs_background": "light"
     },
     "output_type": "display_data"
    },
    {
     "name": "stdout",
     "output_type": "stream",
     "text": [
      "expected_value 1.0 dispersion 0.0\n",
      "reference frequency 0.1\n",
      "intervals frequence [0. 1. 0. 0. 0. 0. 0. 0. 0. 0.]\n",
      "correlation nan\n",
      "\n",
      "n = 1\n"
     ]
    },
    {
     "name": "stderr",
     "output_type": "stream",
     "text": [
      "C:\\Program Files\\Anaconda\\envs\\ML_book_OR\\lib\\site-packages\\ipykernel_launcher.py:7: RuntimeWarning: invalid value encountered in true_divide\n",
      "  import sys\n"
     ]
    },
    {
     "data": {
      "image/png": "[encoded data removed]",
      "text/plain": [
       "<Figure size 1080x360 with 1 Axes>"
      ]
     },
     "metadata": {
      "needs_background": "light"
     },
     "output_type": "display_data"
    },
    {
     "name": "stdout",
     "output_type": "stream",
     "text": [
      "expected_value 0.508356290174472 dispersion 0.07271803096496308\n",
      "reference frequency 0.1\n",
      "intervals frequence [0.  0.1 0.2 0.1 0.1 0.1 0.2 0.1 0.1 0. ]\n",
      "correlation 1.0\n",
      "\n",
      "n = 10\n"
     ]
    },
    {
     "data": {
      "image/png": "[encoded data removed]",
      "text/plain": [
       "<Figure size 1080x360 with 1 Axes>"
      ]
     },
     "metadata": {
      "needs_background": "light"
     },
     "output_type": "display_data"
    },
    {
     "name": "stdout",
     "output_type": "stream",
     "text": [
      "expected_value 0.5313554757630162 dispersion 0.08597217484987858\n",
      "reference frequency 0.1\n",
      "intervals frequence [0.09 0.08 0.1  0.1  0.05 0.12 0.11 0.13 0.08 0.14]\n",
      "correlation 1.0\n",
      "\n",
      "n = 100\n"
     ]
    },
    {
     "data": {
      "image/png": "[encoded data removed]",
      "text/plain": [
       "<Figure size 1080x360 with 1 Axes>"
      ]
     },
     "metadata": {
      "needs_background": "light"
     },
     "output_type": "display_data"
    },
    {
     "name": "stdout",
     "output_type": "stream",
     "text": [
      "expected_value 0.5236102150537634 dispersion 0.08619338876604238\n",
      "reference frequency 0.1\n",
      "intervals frequence [0.098 0.083 0.096 0.098 0.076 0.103 0.098 0.123 0.107 0.118]\n",
      "correlation 1.0\n",
      "\n",
      "n = 1000\n"
     ]
    },
    {
     "data": {
      "image/png": "[encoded data removed]",
      "text/plain": [
       "<Figure size 1080x360 with 1 Axes>"
      ]
     },
     "metadata": {
      "needs_background": "light"
     },
     "output_type": "display_data"
    },
    {
     "name": "stdout",
     "output_type": "stream",
     "text": [
      "expected_value 0.5237318996415772 dispersion 0.08547817519764639\n",
      "reference frequency 0.1\n",
      "intervals frequence [0.0968 0.0824 0.0969 0.0967 0.0791 0.1037 0.0969 0.1217 0.1111 0.1147]\n",
      "correlation 1.0\n"
     ]
    }
   ],
   "source": [
    "n = 10\n",
    "for i in range(5):\n",
    "    print(\"\\nn =\", n)\n",
    "    n = np.power(10, i)\n",
    "    mm_arr = multiplicativeCongruentMethod(n)\n",
    "    lab1(n, mm_arr)"
   ]
  },
  {
   "cell_type": "markdown",
   "metadata": {},
   "source": [
    "### As we can see, expected value and dispersion are pterry close to what we expected"
   ]
  },
  {
   "cell_type": "markdown",
   "metadata": {},
   "source": [
    "---"
   ]
  },
  {
   "cell_type": "markdown",
   "metadata": {},
   "source": [
    "Lets do the same thing with *Middle Square Method*"
   ]
  },
  {
   "cell_type": "code",
   "execution_count": 16,
   "metadata": {},
   "outputs": [
    {
     "name": "stdout",
     "output_type": "stream",
     "text": [
      "\n",
      "n = 10\n"
     ]
    },
    {
     "data": {
      "image/png": "[encoded data removed]",
      "text/plain": [
       "<Figure size 1080x360 with 1 Axes>"
      ]
     },
     "metadata": {
      "needs_background": "light"
     },
     "output_type": "display_data"
    },
    {
     "name": "stdout",
     "output_type": "stream",
     "text": [
      "expected_value 0.1652 dispersion 0.0\n",
      "reference frequency 0.1\n",
      "intervals frequence [0. 1. 0. 0. 0. 0. 0. 0. 0. 0.]\n",
      "correlation nan\n",
      "\n",
      "n = 1\n"
     ]
    },
    {
     "name": "stderr",
     "output_type": "stream",
     "text": [
      "C:\\Program Files\\Anaconda\\envs\\ML_book_OR\\lib\\site-packages\\ipykernel_launcher.py:7: RuntimeWarning: invalid value encountered in true_divide\n",
      "  import sys\n"
     ]
    },
    {
     "data": {
      "image/png": "[encoded data removed]",
      "text/plain": [
       "<Figure size 1080x360 with 1 Axes>"
      ]
     },
     "metadata": {
      "needs_background": "light"
     },
     "output_type": "display_data"
    },
    {
     "name": "stdout",
     "output_type": "stream",
     "text": [
      "expected_value 0.47733000000000003 dispersion 0.07235699609999999\n",
      "reference frequency 0.1\n",
      "intervals frequence [0.2 0.1 0.1 0.1 0.1 0.1 0.2 0.1 0.  0. ]\n",
      "correlation 1.0\n",
      "\n",
      "n = 10\n"
     ]
    },
    {
     "data": {
      "image/png": "[encoded data removed]",
      "text/plain": [
       "<Figure size 1080x360 with 1 Axes>"
      ]
     },
     "metadata": {
      "needs_background": "light"
     },
     "output_type": "display_data"
    },
    {
     "name": "stdout",
     "output_type": "stream",
     "text": [
      "expected_value 0.46084 dispersion 0.0723369214\n",
      "reference frequency 0.1\n",
      "intervals frequence [0.11 0.11 0.11 0.06 0.15 0.09 0.14 0.08 0.12 0.03]\n",
      "correlation 1.0\n",
      "\n",
      "n = 100\n"
     ]
    },
    {
     "data": {
      "image/png": "[encoded data removed]",
      "text/plain": [
       "<Figure size 1080x360 with 1 Axes>"
      ]
     },
     "metadata": {
      "needs_background": "light"
     },
     "output_type": "display_data"
    },
    {
     "name": "stdout",
     "output_type": "stream",
     "text": [
      "expected_value 0.0004203000000000001 dispersion 0.00016002691790999987\n",
      "reference frequency 0.1\n",
      "intervals frequence [0.502 0.001 0.    0.    0.    0.    0.    0.    0.    0.   ]\n",
      "correlation 1.0\n"
     ]
    }
   ],
   "source": [
    "n = 10\n",
    "for i in range(4):\n",
    "    print(\"\\nn =\", n)\n",
    "    n = np.power(10, i)\n",
    "    msm_arr = middleSquareMethod(n)\n",
    "    lab1(n, msm_arr)"
   ]
  },
  {
   "cell_type": "markdown",
   "metadata": {},
   "source": [
    "As far as I concern, Middle Square Method didn't work out so well. Metrics look promising in the beginning while n is low. On the same time, with growth of n data generation turn out is strongly unbalanced and dispersion became too small"
   ]
  },
  {
   "cell_type": "code",
   "execution_count": null,
   "metadata": {},
   "outputs": [],
   "source": []
  }
 ],
 "metadata": {
  "kernelspec": {
   "display_name": "Python 3",
   "language": "python",
   "name": "python3"
  },
  "language_info": {
   "codemirror_mode": {
    "name": "ipython",
    "version": 3
   },
   "file_extension": ".py",
   "mimetype": "text/x-python",
   "name": "python",
   "nbconvert_exporter": "python",
   "pygments_lexer": "ipython3",
   "version": "3.7.7"
  }
 },
 "nbformat": 4,
 "nbformat_minor": 4
}
