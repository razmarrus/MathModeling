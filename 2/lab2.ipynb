{
 "cells": [
  {
   "cell_type": "markdown",
   "metadata": {},
   "source": [
    "# Генерация систем непрерывных и дискретных случайных величин\n",
    "\n",
    "1. Написать программу реализующую метод формирования двумерной НСВ с\n",
    "определенным распределением (согласно варианту). Выполнить статистическое\n",
    "исследование (построение гистограммы составляющих вектора, вычислить точечные\n",
    "и интервальные оценки, коэффициент корреляции и другое). Проверить гипотезы о\n",
    "соответствии полученных оценок характеристик (математическое ожидание,\n",
    "дисперсия, корреляция) случайной величины теоретическим.  \n",
    "\n"
   ]
  },
  {
   "cell_type": "code",
   "execution_count": 1,
   "metadata": {},
   "outputs": [],
   "source": [
    "import numpy as np\n",
    "from sympy import *\n",
    "import matplotlib\n",
    "import pylab\n",
    "import math\n",
    "import matplotlib.pyplot as plt\n",
    "\n",
    "np.random.seed(42)\n",
    "x, y, z, t = symbols('x y z t')"
   ]
  },
  {
   "cell_type": "markdown",
   "metadata": {},
   "source": [
    "$$f(x,y) = \\frac{3*\\sin(x+y)}{4} $$"
   ]
  },
  {
   "cell_type": "code",
   "execution_count": 2,
   "metadata": {},
   "outputs": [],
   "source": [
    "def Probability_density(x, y):\n",
    "    return 3*np.sin(x+y)/4"
   ]
  },
  {
   "cell_type": "markdown",
   "metadata": {},
   "source": [
    "## Двумерная НСВ"
   ]
  },
  {
   "cell_type": "markdown",
   "metadata": {},
   "source": [
    "### Получение $f(y)$ и $g(y)$\n",
    "Для получения функция распределения $f(y)$ проинтегрируем $f(x, y)$ по $x$\n",
    "$$f(y) = \\frac{3}{4}\\int_0^\\infty \\mathrm{sin(x+y)}\\mathrm{d}x$$"
   ]
  },
  {
   "cell_type": "code",
   "execution_count": 3,
   "metadata": {},
   "outputs": [
    {
     "data": {
      "text/latex": [
       "$\\displaystyle \\left\\langle -0.75, 0.75\\right\\rangle + 0.75 \\cos{\\left(y \\right)}$"
      ],
      "text/plain": [
       "AccumBounds(-0.75, 0.75) + 0.75*cos(y)"
      ]
     },
     "execution_count": 3,
     "metadata": {},
     "output_type": "execute_result"
    }
   ],
   "source": [
    "integrate(3/4*sin(x+y), (x, 0, oo))"
   ]
  },
  {
   "cell_type": "code",
   "execution_count": 4,
   "metadata": {},
   "outputs": [],
   "source": [
    "def f_y_star(y):\n",
    "    return 3/4*np.cos(y)"
   ]
  },
  {
   "cell_type": "markdown",
   "metadata": {},
   "source": [
    "Мы получили функцию $f(y)=0.75*cos(y)$. Проинтегрировав ее мы получим плотность распределения\n",
    "$$F(y)= \\frac{3}{4}\\int_0^\\infty \\mathrm{cos(y)}\\mathrm{d}y$$\n",
    "и ищем обратную \n",
    "$$g(y)= F(y)^{-1}$$  "
   ]
  },
  {
   "cell_type": "code",
   "execution_count": 5,
   "metadata": {},
   "outputs": [
    {
     "data": {
      "text/latex": [
       "$\\displaystyle 0.75 \\sin{\\left(y \\right)}$"
      ],
      "text/plain": [
       "0.75*sin(y)"
      ]
     },
     "execution_count": 5,
     "metadata": {},
     "output_type": "execute_result"
    }
   ],
   "source": [
    "integrate(3/4*cos(y))#, (y, -oo, np.pi/2))"
   ]
  },
  {
   "cell_type": "markdown",
   "metadata": {},
   "source": [
    "Таким образом мы выяснили, что функция распределения для случайной величины $y$: $F(y)=0.75*sin(y)$, а обратная ей функция $$g(y)=\\frac{4}{3}*\\arcsin(y)$$"
   ]
  },
  {
   "cell_type": "code",
   "execution_count": 6,
   "metadata": {},
   "outputs": [],
   "source": [
    "def y_inverted(y):\n",
    "    return np.arcsin(y)/0.75"
   ]
  },
  {
   "cell_type": "markdown",
   "metadata": {},
   "source": [
    "Согласно свойству функции расприедления, случайные величины, полученные с помощью функции $g(y)$ будут иметь распределение, соотвутствующее функции, заданой по условию."
   ]
  },
  {
   "cell_type": "markdown",
   "metadata": {},
   "source": [
    "### Получение $f(x)$ и $g(x)$ \n",
    "Чтобы избежать погрешности в случае если x и y зависимы $f(x)$ будем искать как: \n",
    "$$ f(x)=\\frac{f(x,y)}{f(y)}$$"
   ]
  },
  {
   "cell_type": "code",
   "execution_count": 7,
   "metadata": {},
   "outputs": [],
   "source": [
    "#integrate(3/4*sin(x)*cos(y) + 3/4*sin(y)*cos(x), (x, 0, oo))"
   ]
  },
  {
   "cell_type": "code",
   "execution_count": 8,
   "metadata": {},
   "outputs": [],
   "source": [
    "def f_x_star(x,y):\n",
    "    return (3*np.sin(x+y)/4)/y"
   ]
  },
  {
   "cell_type": "code",
   "execution_count": 9,
   "metadata": {},
   "outputs": [],
   "source": [
    "y = np.random.random_sample()\n",
    "#x = y = np.random.random_sample()\n",
    "y_output = float(f_y_star(y))"
   ]
  },
  {
   "cell_type": "code",
   "execution_count": 10,
   "metadata": {},
   "outputs": [
    {
     "data": {
      "text/latex": [
       "$\\displaystyle - 1.074 \\cos{\\left(x + 0.698 \\right)}$"
      ],
      "text/plain": [
       "-1.074*cos(x + 0.698)"
      ]
     },
     "execution_count": 10,
     "metadata": {},
     "output_type": "execute_result"
    }
   ],
   "source": [
    "const = float(\"%.3f\" % (3/(4*y_output)))\n",
    "y_output = float(\"%.3f\" % y_output) #обрезаем лишнее символы после запятой\n",
    "\n",
    "integrate(const*sin(x+y_output))"
   ]
  },
  {
   "cell_type": "markdown",
   "metadata": {},
   "source": [
    "проинтегрируем эту функцию - получаем обратную \n",
    "$$g(x)= F(x)^{-1}$$  \n",
    "$$\\arccos{(x-0.698)}/1.074 $$"
   ]
  },
  {
   "cell_type": "code",
   "execution_count": 11,
   "metadata": {},
   "outputs": [],
   "source": [
    "def x_inverted(x):\n",
    "    return np.arccos(x - 0.698)/1.074"
   ]
  },
  {
   "cell_type": "markdown",
   "metadata": {},
   "source": [
    "Таким образом, мы получили функции для генерации x и y"
   ]
  },
  {
   "cell_type": "markdown",
   "metadata": {},
   "source": [
    "### Генерация случайных величин:"
   ]
  },
  {
   "cell_type": "code",
   "execution_count": 12,
   "metadata": {},
   "outputs": [],
   "source": [
    "def generationOfContinuousRV(n):\n",
    "    continuity_array = np.zeros((n,2))\n",
    "\n",
    "    for i in range(n):\n",
    "        #for j in range(2):\n",
    "        x = np.random.random_sample()\n",
    "        y = np.random.random_sample()\n",
    "        #print(y_inverted(y), x_inverted(x))\n",
    "        continuity_array[i,0] = y_inverted(y)\n",
    "        continuity_array[i,1] = x_inverted(x)\n",
    "    return continuity_array"
   ]
  },
  {
   "cell_type": "code",
   "execution_count": 13,
   "metadata": {},
   "outputs": [],
   "source": [
    "#print(continuity_array)"
   ]
  },
  {
   "cell_type": "markdown",
   "metadata": {},
   "source": [
    "## Двумерная ДСВ"
   ]
  },
  {
   "cell_type": "markdown",
   "metadata": {},
   "source": [
    "2. Написать программу реализующую метод формирования двумерной ДСВ. Выполнить\n",
    "статистическое исследование (построение эмпирической матрицы распределения,\n",
    "гистограммы составляющих вектора, вычислить точечные и интервальные оценки,\n",
    "коэффициент корреляции). Проверить гипотезы о соответствии закона распределения\n",
    "полученной случайной величины требуемому. Проверить гипотезы о соответствии\n",
    "полученных оценок характеристик (математическое ожидание, дисперсия,\n",
    "корреляция) случайной величины теоретическим"
   ]
  },
  {
   "cell_type": "markdown",
   "metadata": {},
   "source": [
    "Генерирум матрицу, сумма по столбцам и строкам в которой равна единице"
   ]
  },
  {
   "cell_type": "code",
   "execution_count": 14,
   "metadata": {},
   "outputs": [
    {
     "name": "stdout",
     "output_type": "stream",
     "text": [
      "[0.13798461 0.0603599  0.04184948 0.00777564 0.00777433 0.00274302\n",
      " 0.09219525 0.04213092 0.05644076 0.00095344 0.16060382 0.08189031\n",
      " 0.01094149 0.00919917 0.00928775 0.01662871 0.03410181 0.02592434\n",
      " 0.01577926 0.04338184 0.00688678 0.0158385  0.02091584 0.0279137\n",
      " 0.07049931]\n"
     ]
    }
   ],
   "source": [
    "size_discrete = 5\n",
    "d = np.random.dirichlet(np.ones(size_discrete*size_discrete))\n",
    "print(d)"
   ]
  },
  {
   "cell_type": "code",
   "execution_count": 15,
   "metadata": {},
   "outputs": [
    {
     "data": {
      "text/plain": [
       "0.9999999999999999"
      ]
     },
     "execution_count": 15,
     "metadata": {},
     "output_type": "execute_result"
    }
   ],
   "source": [
    "np.sum(d)"
   ]
  },
  {
   "cell_type": "markdown",
   "metadata": {},
   "source": [
    "Генерирум массивы x и y, которые и будут нашими выходными случайными числами"
   ]
  },
  {
   "cell_type": "code",
   "execution_count": 16,
   "metadata": {},
   "outputs": [
    {
     "name": "stdout",
     "output_type": "stream",
     "text": [
      "[3. 4. 5. 7. 9.] [2. 3. 5. 7. 9.]\n"
     ]
    }
   ],
   "source": [
    "x_discrete = np.zeros((size_discrete))\n",
    "y_discrete = np.zeros((size_discrete))\n",
    "\n",
    "for i in range(size_discrete):\n",
    "    repeated = True\n",
    "    while(repeated):\n",
    "        x = np.random.randint(1,10)\n",
    "        if x not in x_discrete: \n",
    "            x_discrete[i] = x\n",
    "            repeated = False\n",
    "        #else:\n",
    "            #print(i, x, x_discrete)\n",
    "            \n",
    "    repeated = True\n",
    "    while(repeated):\n",
    "        y = np.random.randint(1,10)\n",
    "        if y not in y_discrete: \n",
    "            y_discrete[i] = y\n",
    "            repeated = False\n",
    "        #print(i, y, y_discrete)\n",
    "            \n",
    "x_discrete = np.sort(x_discrete)\n",
    "y_discrete = np.sort(y_discrete)\n",
    "print(x_discrete, y_discrete)"
   ]
  },
  {
   "cell_type": "code",
   "execution_count": 17,
   "metadata": {},
   "outputs": [],
   "source": [
    "p_x = np.zeros((size_discrete))\n",
    "accumulated_sum = 0\n",
    "\n",
    "for i in range(size_discrete*size_discrete):\n",
    "    accumulated_sum += d[i]\n",
    "    if (i + 1) % (size_discrete) == 0 and i > 0:\n",
    "        p_x[int(i / size_discrete)] = accumulated_sum\n",
    "        accumulated_sum = 0"
   ]
  },
  {
   "cell_type": "code",
   "execution_count": 18,
   "metadata": {},
   "outputs": [
    {
     "name": "stdout",
     "output_type": "stream",
     "text": [
      "[0.25574396 0.1944634  0.27192254 0.13581595 0.14205414]\n"
     ]
    }
   ],
   "source": [
    "print(p_x)"
   ]
  },
  {
   "cell_type": "code",
   "execution_count": 19,
   "metadata": {},
   "outputs": [
    {
     "data": {
      "text/plain": [
       "array([0.25574396, 0.45020736, 0.7221299 , 0.85794586, 1.        ])"
      ]
     },
     "execution_count": 19,
     "metadata": {},
     "output_type": "execute_result"
    }
   ],
   "source": [
    "f_x = np.zeros((size_discrete))\n",
    "accumulated_sum = 0\n",
    "for i in range(size_discrete):\n",
    "    accumulated_sum += p_x[i]\n",
    "    f_x[i] = accumulated_sum\n",
    "    \n",
    "f_x"
   ]
  },
  {
   "cell_type": "code",
   "execution_count": 20,
   "metadata": {},
   "outputs": [],
   "source": [
    "p_y = np.zeros((size_discrete,size_discrete))\n",
    "\n",
    "for i in range(size_discrete):\n",
    "    for j in range(size_discrete):\n",
    "        p_y[i, j] = d[i*size_discrete + j]/p_x[i]"
   ]
  },
  {
   "cell_type": "code",
   "execution_count": 21,
   "metadata": {},
   "outputs": [
    {
     "data": {
      "text/plain": [
       "array([[0.539542  , 0.23601692, 0.1636382 , 0.030404  , 0.03039888],\n",
       "       [0.01410559, 0.47410078, 0.21665219, 0.29023849, 0.00490295],\n",
       "       [0.59062342, 0.30115308, 0.04023753, 0.0338301 , 0.03415587],\n",
       "       [0.1224356 , 0.25108839, 0.19087845, 0.11618116, 0.31941639],\n",
       "       [0.04847999, 0.11149625, 0.14723854, 0.1965004 , 0.49628482]])"
      ]
     },
     "execution_count": 21,
     "metadata": {},
     "output_type": "execute_result"
    }
   ],
   "source": [
    "p_y"
   ]
  },
  {
   "cell_type": "code",
   "execution_count": 22,
   "metadata": {},
   "outputs": [
    {
     "data": {
      "text/plain": [
       "array([[0.539542  , 0.77555892, 0.93919712, 0.96960112, 1.        ],\n",
       "       [0.01410559, 0.48820637, 0.70485856, 0.99509705, 1.        ],\n",
       "       [0.59062342, 0.8917765 , 0.93201403, 0.96584413, 1.        ],\n",
       "       [0.1224356 , 0.373524  , 0.56440245, 0.68058361, 1.        ],\n",
       "       [0.04847999, 0.15997624, 0.30721478, 0.50371518, 1.        ]])"
      ]
     },
     "execution_count": 22,
     "metadata": {},
     "output_type": "execute_result"
    }
   ],
   "source": [
    "f_y = np.zeros((size_discrete,size_discrete))\n",
    "accumulated_sum = 0\n",
    "\n",
    "for i in range(size_discrete):\n",
    "    accumulated_sum = 0\n",
    "    for j in range(size_discrete):\n",
    "        accumulated_sum += p_y[i,j]\n",
    "        f_y[i, j] = accumulated_sum\n",
    "        \n",
    "f_y"
   ]
  },
  {
   "cell_type": "markdown",
   "metadata": {},
   "source": [
    "## generation itself"
   ]
  },
  {
   "cell_type": "code",
   "execution_count": 23,
   "metadata": {},
   "outputs": [],
   "source": [
    "def generationOfDiscreteRV(n):\n",
    "    discrete_array = np.zeros((n,2))\n",
    "\n",
    "    j_saved = 0\n",
    "    for i in range(n):\n",
    "        x = np.random.random_sample()\n",
    "        y = np.random.random_sample()   \n",
    "\n",
    "        for j in range(size_discrete):\n",
    "            if x < f_x[j]:\n",
    "                #print(i, x, j,f_x[j], x_discrete[j])\n",
    "                j_saved = j\n",
    "                discrete_array[i,0] = x_discrete[j]\n",
    "                break\n",
    "            #else: print(\"smth got wrong with x\")\n",
    "\n",
    "        for j in range(size_discrete):\n",
    "            if y < f_y[j_saved, j]:\n",
    "                discrete_array[i,1] = y_discrete[j]\n",
    "                #print(\" \", y, j, f_y[j_saved, j], y_discrete[j])\n",
    "                break\n",
    "                \n",
    "    return discrete_array\n"
   ]
  },
  {
   "cell_type": "code",
   "execution_count": 24,
   "metadata": {},
   "outputs": [],
   "source": [
    "#print(x_discrete, y_discrete)"
   ]
  },
  {
   "cell_type": "markdown",
   "metadata": {},
   "source": [
    "## Тестирование"
   ]
  },
  {
   "cell_type": "code",
   "execution_count": 25,
   "metadata": {},
   "outputs": [],
   "source": [
    "n = 100000\n",
    "continuous_arr = generationOfContinuousRV(n)\n",
    "discrete_arr = generationOfDiscreteRV(n)"
   ]
  },
  {
   "cell_type": "code",
   "execution_count": 26,
   "metadata": {},
   "outputs": [
    {
     "data": {
      "text/plain": [
       "array([[1.74381894, 1.22644449],\n",
       "       [0.41271053, 1.35956564],\n",
       "       [1.00473529, 2.06211113],\n",
       "       ...,\n",
       "       [0.2347803 , 2.03781396],\n",
       "       [0.64475196, 2.13330226],\n",
       "       [1.2720707 , 1.7361451 ]])"
      ]
     },
     "execution_count": 26,
     "metadata": {},
     "output_type": "execute_result"
    }
   ],
   "source": [
    "continuous_arr"
   ]
  },
  {
   "cell_type": "code",
   "execution_count": 27,
   "metadata": {},
   "outputs": [
    {
     "data": {
      "text/plain": [
       "array([[5., 2.],\n",
       "       [7., 7.],\n",
       "       [5., 5.],\n",
       "       ...,\n",
       "       [5., 2.],\n",
       "       [9., 5.],\n",
       "       [3., 5.]])"
      ]
     },
     "execution_count": 27,
     "metadata": {},
     "output_type": "execute_result"
    }
   ],
   "source": [
    "discrete_arr"
   ]
  },
  {
   "cell_type": "markdown",
   "metadata": {},
   "source": [
    "## ДСВ"
   ]
  },
  {
   "cell_type": "code",
   "execution_count": 28,
   "metadata": {},
   "outputs": [],
   "source": [
    "def statDiscrete(arr, n, arr_x, arr_y, size_discrete):\n",
    "    props = np.zeros((2, size_discrete))\n",
    "    for i in range(n):\n",
    "        for j in range(size_discrete):\n",
    "            if arr[i,0] == arr_x[j]:\n",
    "                props[0,j] +=1\n",
    "                break\n",
    "    \n",
    "    for i in range(n):\n",
    "        for j in range(size_discrete):\n",
    "            if arr[i,1] == arr_y[j]:\n",
    "                props[1,j] +=1\n",
    "                break\n",
    "    #print(props) \n",
    "    return props/n"
   ]
  },
  {
   "cell_type": "code",
   "execution_count": 29,
   "metadata": {},
   "outputs": [
    {
     "data": {
      "text/plain": [
       "array([[0.25542, 0.19382, 0.27323, 0.13556, 0.14197],\n",
       "       [0.32475, 0.2856 , 0.14275, 0.11544, 0.13146]])"
      ]
     },
     "execution_count": 29,
     "metadata": {},
     "output_type": "execute_result"
    }
   ],
   "source": [
    "props_discrete = statDiscrete(discrete_arr, n, x_discrete, y_discrete, size_discrete)\n",
    "props_discrete"
   ]
  },
  {
   "cell_type": "code",
   "execution_count": 30,
   "metadata": {},
   "outputs": [],
   "source": [
    "def histDiscrete(props, arr, dim):\n",
    "    fig = plt.figure()\n",
    "    ax = fig.add_axes([0,0,1,1])\n",
    "    rects1 = ax.bar(arr, props[dim], label=\"frequency\")\n",
    "    plt.show()\n",
    "    \n",
    "def expectedValueDiscrete(value, prop, dim):\n",
    "    return np.dot(value[dim], prop)\n",
    "\n",
    "def dispersionDiscrete(value, prop, expected_value, n):\n",
    "    ex_val_powered = 0\n",
    "    for i in range(n):\n",
    "        ex_val_powered += np.power(value[i],2) * prop[i] \n",
    "    return ex_val_powered - np.power(expected_value, 2)\n",
    "\n",
    "def correlationDiscrete(arr_x, arr_y, p, dispersion_x, dispersion_y):\n",
    "    \n",
    "    k = 0\n",
    "    for i in range(len(arr_x)):\n",
    "        for j in range(len(arr_y)):\n",
    "            k =+ (arr_x[i]*arr_y[j]* p[i,j] )\n",
    "    print(\"k=\", k)\n",
    "    c = k / np.power((dispersion_x * dispersion_y),1/2)\n",
    "    print(\"c=\", c)\n",
    "    return c"
   ]
  },
  {
   "cell_type": "code",
   "execution_count": 31,
   "metadata": {},
   "outputs": [
    {
     "data": {
      "image/png": "[encoded data removed]",
      "text/plain": [
       "<Figure size 432x288 with 1 Axes>"
      ]
     },
     "metadata": {
      "needs_background": "light"
     },
     "output_type": "display_data"
    },
    {
     "name": "stdout",
     "output_type": "stream",
     "text": [
      "expected value x: 5.13434\n",
      "dispersion x: 4.011212764399996\n"
     ]
    }
   ],
   "source": [
    "histDiscrete(props_discrete, x_discrete, 0)\n",
    "expected_value_x = expectedValueDiscrete(props_discrete, x_discrete, 0)\n",
    "dispersion_x = dispersionDiscrete(x_discrete, props_discrete[0], expected_value_x, size_discrete)\n",
    "print(\"expected value x: \" + str(expected_value_x))\n",
    "print(\"dispersion x: \" + str(dispersion_x))"
   ]
  },
  {
   "cell_type": "code",
   "execution_count": 32,
   "metadata": {},
   "outputs": [
    {
     "data": {
      "image/png": "[encoded data removed]",
      "text/plain": [
       "<Figure size 432x288 with 1 Axes>"
      ]
     },
     "metadata": {
      "needs_background": "light"
     },
     "output_type": "display_data"
    },
    {
     "name": "stdout",
     "output_type": "stream",
     "text": [
      "expected value y: 4.21127\n",
      "dispersion y: 6.008174987100002\n"
     ]
    }
   ],
   "source": [
    "histDiscrete(props_discrete, y_discrete, 1)\n",
    "expected_value_y = expectedValueDiscrete(props_discrete, y_discrete, 1)\n",
    "dispersion_y = dispersionDiscrete(y_discrete, props_discrete[1], expected_value_y, size_discrete)\n",
    "print(\"expected value y: \" + str(expected_value_y))\n",
    "print(\"dispersion y: \" + str(dispersion_y))"
   ]
  },
  {
   "cell_type": "code",
   "execution_count": 33,
   "metadata": {},
   "outputs": [
    {
     "name": "stdout",
     "output_type": "stream",
     "text": [
      "k= 40.19907031088\n",
      "c= 8.188547515475873\n"
     ]
    },
    {
     "data": {
      "text/plain": [
       "8.188547515475873"
      ]
     },
     "execution_count": 33,
     "metadata": {},
     "output_type": "execute_result"
    }
   ],
   "source": [
    "correlationDiscrete(x_discrete, y_discrete, p_y, dispersion_x, dispersion_y)"
   ]
  },
  {
   "cell_type": "code",
   "execution_count": null,
   "metadata": {},
   "outputs": [],
   "source": []
  }
 ],
 "metadata": {
  "kernelspec": {
   "display_name": "Python 3",
   "language": "python",
   "name": "python3"
  },
  "language_info": {
   "codemirror_mode": {
    "name": "ipython",
    "version": 3
   },
   "file_extension": ".py",
   "mimetype": "text/x-python",
   "name": "python",
   "nbconvert_exporter": "python",
   "pygments_lexer": "ipython3",
   "version": "3.7.7"
  }
 },
 "nbformat": 4,
 "nbformat_minor": 2
}
