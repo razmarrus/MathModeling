{
 "cells": [
  {
   "cell_type": "markdown",
   "metadata": {},
   "source": [
    "# Генерация систем непрерывных и дискретных случайных величин\n",
    "\n",
    "1. Написать программу реализующую метод формирования двумерной НСВ с\n",
    "определенным распределением (согласно варианту). Выполнить статистическое\n",
    "исследование (построение гистограммы составляющих вектора, вычислить точечные\n",
    "и интервальные оценки, коэффициент корреляции и другое). Проверить гипотезы о\n",
    "соответствии полученных оценок характеристик (математическое ожидание,\n",
    "дисперсия, корреляция) случайной величины теоретическим.  \n",
    "\n"
   ]
  },
  {
   "cell_type": "code",
   "execution_count": 1,
   "metadata": {},
   "outputs": [],
   "source": [
    "import numpy as np\n",
    "from sympy import *\n",
    "np.random.seed(42)\n",
    "x, y, z, t = symbols('x y z t')"
   ]
  },
  {
   "cell_type": "markdown",
   "metadata": {},
   "source": [
    "Функция плотности вероятности будет соответсововать второму варианту"
   ]
  },
  {
   "cell_type": "code",
   "execution_count": 2,
   "metadata": {},
   "outputs": [
    {
     "data": {
      "text/plain": [
       "2"
      ]
     },
     "execution_count": 2,
     "metadata": {},
     "output_type": "execute_result"
    }
   ],
   "source": [
    "7217057 % 9"
   ]
  },
  {
   "cell_type": "markdown",
   "metadata": {},
   "source": [
    "$$f(x,y) = \\frac{3*\\sin(x+y)}{4} $$"
   ]
  },
  {
   "cell_type": "code",
   "execution_count": 3,
   "metadata": {},
   "outputs": [],
   "source": [
    "def Probability_density(x, y):\n",
    "    return 3*np.sin(x+y)/4"
   ]
  },
  {
   "cell_type": "markdown",
   "metadata": {},
   "source": [
    "## Двумерная НСВ"
   ]
  },
  {
   "cell_type": "markdown",
   "metadata": {},
   "source": [
    "### Получение $f(y)$ и $g(y)$\n",
    "Для получения функция распределения $f(y)$ проинтегрируем $f(x, y)$ по $x$\n",
    "$$f(y) = \\frac{3}{4}\\int_0^\\infty \\mathrm{sin(x+y)}\\mathrm{d}x$$"
   ]
  },
  {
   "cell_type": "code",
   "execution_count": 4,
   "metadata": {},
   "outputs": [
    {
     "data": {
      "text/latex": [
       "$\\displaystyle \\left\\langle -0.75, 0.75\\right\\rangle + 0.75 \\cos{\\left(y \\right)}$"
      ],
      "text/plain": [
       "AccumBounds(-0.75, 0.75) + 0.75*cos(y)"
      ]
     },
     "execution_count": 4,
     "metadata": {},
     "output_type": "execute_result"
    }
   ],
   "source": [
    "integrate(3/4*sin(x+y), (x, 0, oo))"
   ]
  },
  {
   "cell_type": "code",
   "execution_count": 5,
   "metadata": {},
   "outputs": [],
   "source": [
    "def f_y_star(y):\n",
    "    return 3/4*np.cos(y)"
   ]
  },
  {
   "cell_type": "markdown",
   "metadata": {},
   "source": [
    "Мы получили функцию $f(y)=0.75*cos(y)$. Проинтегрировав ее мы получим плотность распределения\n",
    "$$F(y)= \\frac{3}{4}\\int_0^\\infty \\mathrm{cos(y)}\\mathrm{d}y$$\n",
    "и ищем обратную \n",
    "$$g(y)= F(y)^{-1}$$  "
   ]
  },
  {
   "cell_type": "code",
   "execution_count": 6,
   "metadata": {},
   "outputs": [
    {
     "data": {
      "text/latex": [
       "$\\displaystyle 0.75 \\sin{\\left(y \\right)}$"
      ],
      "text/plain": [
       "0.75*sin(y)"
      ]
     },
     "execution_count": 6,
     "metadata": {},
     "output_type": "execute_result"
    }
   ],
   "source": [
    "integrate(3/4*cos(y))#, (y, -oo, np.pi/2))"
   ]
  },
  {
   "cell_type": "markdown",
   "metadata": {},
   "source": [
    "Таким образом мы выяснили, что функция распределения для случайной величины $y$: $F(y)=0.75*sin(y)$, а обратная ей функция $$g(y)=\\frac{4}{3}*\\arcsin(y)$$"
   ]
  },
  {
   "cell_type": "code",
   "execution_count": 7,
   "metadata": {},
   "outputs": [],
   "source": [
    "def y_inverted(y):\n",
    "    return np.arcsin(y)/0.75"
   ]
  },
  {
   "cell_type": "markdown",
   "metadata": {},
   "source": [
    "Согласно свойству функции расприедления, случайные величины, полученные с помощью функции $g(y)$ будут иметь распределение, соотвутствующее функции, заданой по условию."
   ]
  },
  {
   "cell_type": "markdown",
   "metadata": {},
   "source": [
    "### Получение $f(x)$ и $g(x)$ \n",
    "Чтобы избежать погрешности в случае если x и y зависимы $f(x)$ будем искать как: \n",
    "$$ f(x)=\\frac{f(x,y)}{f(y)}$$"
   ]
  },
  {
   "cell_type": "code",
   "execution_count": 8,
   "metadata": {},
   "outputs": [],
   "source": [
    "#integrate(3/4*sin(x)*cos(y) + 3/4*sin(y)*cos(x), (x, 0, oo))"
   ]
  },
  {
   "cell_type": "code",
   "execution_count": 9,
   "metadata": {},
   "outputs": [],
   "source": [
    "def f_x_star(x,y):\n",
    "    return (3*np.sin(x+y)/4)/y"
   ]
  },
  {
   "cell_type": "code",
   "execution_count": 10,
   "metadata": {},
   "outputs": [],
   "source": [
    "y = np.random.random_sample()\n",
    "#x = y = np.random.random_sample()\n",
    "y_output = float(f_y_star(y))"
   ]
  },
  {
   "cell_type": "code",
   "execution_count": 11,
   "metadata": {},
   "outputs": [
    {
     "data": {
      "text/latex": [
       "$\\displaystyle - 1.074 \\cos{\\left(x + 0.698 \\right)}$"
      ],
      "text/plain": [
       "-1.074*cos(x + 0.698)"
      ]
     },
     "execution_count": 11,
     "metadata": {},
     "output_type": "execute_result"
    }
   ],
   "source": [
    "const = float(\"%.3f\" % (3/(4*y_output)))\n",
    "y_output = float(\"%.3f\" % y_output) #обрезаем лишнее символы после запятой\n",
    "\n",
    "integrate(const*sin(x+y_output))"
   ]
  },
  {
   "cell_type": "markdown",
   "metadata": {},
   "source": [
    "проинтегрируем эту функцию - получаем обратную \n",
    "$$g(x)= F(x)^{-1}$$  \n",
    "$$\\arccos{(x-0.698)}/1.074 $$"
   ]
  },
  {
   "cell_type": "code",
   "execution_count": 12,
   "metadata": {},
   "outputs": [],
   "source": [
    "def x_inverted(x):\n",
    "    return np.arccos(x - 0.698)/1.074"
   ]
  },
  {
   "cell_type": "markdown",
   "metadata": {},
   "source": [
    "Таким образом, мы получили функции для генерации x и y"
   ]
  },
  {
   "cell_type": "markdown",
   "metadata": {},
   "source": [
    "### Генерация случайных величин:"
   ]
  },
  {
   "cell_type": "code",
   "execution_count": 13,
   "metadata": {},
   "outputs": [],
   "source": [
    "n = 10\n",
    "continuity_array = np.zeros((n,2))\n",
    "\n",
    "for i in range(n):\n",
    "    #for j in range(2):\n",
    "    x = np.random.random_sample()\n",
    "    y = np.random.random_sample()\n",
    "    #print(y_inverted(y), x_inverted(x))\n",
    "    continuity_array[i,0] = y_inverted(y)\n",
    "    continuity_array[i,1] = x_inverted(x)"
   ]
  },
  {
   "cell_type": "code",
   "execution_count": 14,
   "metadata": {},
   "outputs": [],
   "source": [
    "#print(continuity_array)"
   ]
  },
  {
   "cell_type": "code",
   "execution_count": null,
   "metadata": {},
   "outputs": [],
   "source": []
  },
  {
   "cell_type": "code",
   "execution_count": null,
   "metadata": {},
   "outputs": [],
   "source": []
  },
  {
   "cell_type": "markdown",
   "metadata": {},
   "source": [
    "## Двумерная ДСВ"
   ]
  },
  {
   "cell_type": "markdown",
   "metadata": {},
   "source": [
    "2. Написать программу реализующую метод формирования двумерной ДСВ. Выполнить\n",
    "статистическое исследование (построение эмпирической матрицы распределения,\n",
    "гистограммы составляющих вектора, вычислить точечные и интервальные оценки,\n",
    "коэффициент корреляции). Проверить гипотезы о соответствии закона распределения\n",
    "полученной случайной величины требуемому. Проверить гипотезы о соответствии\n",
    "полученных оценок характеристик (математическое ожидание, дисперсия,\n",
    "корреляция) случайной величины теоретическим"
   ]
  },
  {
   "cell_type": "code",
   "execution_count": 15,
   "metadata": {},
   "outputs": [
    {
     "name": "stdout",
     "output_type": "stream",
     "text": [
      "[0.00715107 0.01644633 0.02171851 0.02898492 0.0732048  0.01060209\n",
      " 0.03436814 0.04272067 0.00226401 0.04452127 0.00889924 0.00320172\n",
      " 0.1415457  0.16043992 0.07864996 0.01729228 0.00489214 0.05487022\n",
      " 0.02761197 0.00619517 0.03253643 0.00166568 0.11425865 0.01425401\n",
      " 0.05170511]\n"
     ]
    }
   ],
   "source": [
    "size_discrete = 5\n",
    "d = np.random.dirichlet(np.ones(size_discrete*size_discrete))\n",
    "print(d)"
   ]
  },
  {
   "cell_type": "code",
   "execution_count": 16,
   "metadata": {},
   "outputs": [
    {
     "data": {
      "text/plain": [
       "1.0"
      ]
     },
     "execution_count": 16,
     "metadata": {},
     "output_type": "execute_result"
    }
   ],
   "source": [
    "np.sum(d)"
   ]
  },
  {
   "cell_type": "code",
   "execution_count": 17,
   "metadata": {},
   "outputs": [
    {
     "name": "stdout",
     "output_type": "stream",
     "text": [
      "[2. 4. 6. 7. 8.] [4. 5. 6. 8. 9.]\n"
     ]
    }
   ],
   "source": [
    "x_discrete = np.zeros((size_discrete))\n",
    "y_discrete = np.zeros((size_discrete))\n",
    "\n",
    "for i in range(size_discrete):\n",
    "    repeated = True\n",
    "    while(repeated):\n",
    "        x = np.random.randint(1,10)\n",
    "        if x not in x_discrete: \n",
    "            x_discrete[i] = x\n",
    "            repeated = False\n",
    "        #else:\n",
    "            #print(i, x, x_discrete)\n",
    "            \n",
    "    repeated = True\n",
    "    while(repeated):\n",
    "        y = np.random.randint(1,10)\n",
    "        if y not in y_discrete: \n",
    "            y_discrete[i] = y\n",
    "            repeated = False\n",
    "        #print(i, y, y_discrete)\n",
    "            \n",
    "x_discrete = np.sort(x_discrete)\n",
    "y_discrete = np.sort(y_discrete)\n",
    "print(x_discrete, y_discrete)"
   ]
  },
  {
   "cell_type": "code",
   "execution_count": 18,
   "metadata": {},
   "outputs": [
    {
     "name": "stdout",
     "output_type": "stream",
     "text": [
      "0 0.0071510708027131935\n",
      "1 0.0235973958299588\n",
      "2 0.04531590968161866\n",
      "3 0.07430082482729981\n",
      "4 0.1475056293292294\n",
      "ss 0.1475056293292294\n",
      "5 0.010602089505511801\n",
      "6 0.044970231456660334\n",
      "7 0.08769090201238688\n",
      "8 0.08995491189173359\n",
      "9 0.13447618613834966\n",
      "ss 0.13447618613834966\n",
      "10 0.008899240151915315\n",
      "11 0.012100961728582264\n",
      "12 0.15364666454851172\n",
      "13 0.3140865876001494\n",
      "14 0.3927365502075347\n",
      "ss 0.3927365502075347\n",
      "15 0.01729227781662418\n",
      "16 0.022184414549249576\n",
      "17 0.07705463908838453\n",
      "18 0.1046666050090981\n",
      "19 0.11086177098075523\n",
      "ss 0.11086177098075523\n",
      "20 0.03253642599203729\n",
      "21 0.03420210552531495\n",
      "22 0.14846075278579038\n",
      "23 0.16271475805842214\n",
      "24 0.21441986334413127\n",
      "ss 0.21441986334413127\n"
     ]
    }
   ],
   "source": [
    "p_x = np.zeros((size_discrete))\n",
    "accumulated_sum = 0\n",
    "\n",
    "for i in range(size_discrete*size_discrete):\n",
    "    accumulated_sum += d[i]\n",
    "    print(i, accumulated_sum)\n",
    "    if (i + 1) % (size_discrete) == 0 and i > 0:\n",
    "        print(\"ss\", accumulated_sum)\n",
    "        p_x[int(i / size_discrete)] = accumulated_sum\n",
    "        accumulated_sum = 0"
   ]
  },
  {
   "cell_type": "code",
   "execution_count": 19,
   "metadata": {},
   "outputs": [
    {
     "name": "stdout",
     "output_type": "stream",
     "text": [
      "[0.14750563 0.13447619 0.39273655 0.11086177 0.21441986]\n"
     ]
    }
   ],
   "source": [
    "print(p_x)"
   ]
  },
  {
   "cell_type": "code",
   "execution_count": 20,
   "metadata": {},
   "outputs": [
    {
     "data": {
      "text/plain": [
       "array([0.14750563, 0.28198182, 0.67471837, 0.78558014, 1.        ])"
      ]
     },
     "execution_count": 20,
     "metadata": {},
     "output_type": "execute_result"
    }
   ],
   "source": [
    "f_x = np.zeros((size_discrete))\n",
    "accumulated_sum = 0\n",
    "for i in range(size_discrete):\n",
    "    accumulated_sum += p_x[i]\n",
    "    f_x[i] = accumulated_sum\n",
    "    \n",
    "f_x"
   ]
  },
  {
   "cell_type": "code",
   "execution_count": 21,
   "metadata": {},
   "outputs": [],
   "source": [
    "p_y = np.zeros((size_discrete,size_discrete))\n",
    "\n",
    "for i in range(size_discrete):\n",
    "    for j in range(size_discrete):\n",
    "        p_y[i, j] = d[i*size_discrete + j]/p_x[i]"
   ]
  },
  {
   "cell_type": "code",
   "execution_count": 22,
   "metadata": {},
   "outputs": [
    {
     "data": {
      "text/plain": [
       "array([[0.04847999, 0.11149625, 0.14723854, 0.1965004 , 0.49628482],\n",
       "       [0.0788399 , 0.25557047, 0.31768205, 0.01683577, 0.33107181],\n",
       "       [0.02265957, 0.00815234, 0.36040878, 0.40851793, 0.20026138],\n",
       "       [0.15598053, 0.04412826, 0.4949427 , 0.24906661, 0.0558819 ],\n",
       "       [0.15174166, 0.00776831, 0.53287343, 0.06647707, 0.24113953]])"
      ]
     },
     "execution_count": 22,
     "metadata": {},
     "output_type": "execute_result"
    }
   ],
   "source": [
    "p_y"
   ]
  },
  {
   "cell_type": "code",
   "execution_count": 23,
   "metadata": {},
   "outputs": [
    {
     "data": {
      "text/plain": [
       "array([[0.04847999, 0.15997624, 0.30721478, 0.50371518, 1.        ],\n",
       "       [0.0788399 , 0.33441037, 0.65209242, 0.66892819, 1.        ],\n",
       "       [0.02265957, 0.03081191, 0.39122069, 0.79973862, 1.        ],\n",
       "       [0.15598053, 0.20010879, 0.69505149, 0.9441181 , 1.        ],\n",
       "       [0.15174166, 0.15950997, 0.69238339, 0.75886047, 1.        ]])"
      ]
     },
     "execution_count": 23,
     "metadata": {},
     "output_type": "execute_result"
    }
   ],
   "source": [
    "f_y = np.zeros((size_discrete,size_discrete))\n",
    "accumulated_sum = 0\n",
    "\n",
    "for i in range(size_discrete):\n",
    "    accumulated_sum = 0\n",
    "    for j in range(size_discrete):\n",
    "        accumulated_sum += p_y[i,j]\n",
    "        f_y[i, j] = accumulated_sum\n",
    "        \n",
    "f_y"
   ]
  },
  {
   "cell_type": "markdown",
   "metadata": {},
   "source": [
    "## generation itself"
   ]
  },
  {
   "cell_type": "code",
   "execution_count": 28,
   "metadata": {},
   "outputs": [
    {
     "name": "stdout",
     "output_type": "stream",
     "text": [
      "0 0.8074401551640625 4 1.0000000000000002 8.0\n",
      "  0.8960912999234932 4 0.9999999999999999 9.0\n",
      "1 0.3180034749718639 2 0.6747183656751137 6.0\n",
      "  0.11005192452767676 2 0.3912206909881951 6.0\n",
      "2 0.22793516254194168 1 0.28198181546757906 4.0\n",
      "  0.4271077886262563 2 0.6520924226849363 6.0\n",
      "3 0.8180147659224931 4 1.0000000000000002 8.0\n",
      "  0.8607305832563434 4 0.9999999999999999 9.0\n",
      "4 0.006952130531190703 0 0.1475056293292294 2.0\n",
      "  0.5107473025775657 4 1.0 9.0\n",
      "5 0.417411003148779 2 0.6747183656751137 6.0\n",
      "  0.22210781047073025 2 0.3912206909881951 6.0\n",
      "6 0.1198653673336828 0 0.1475056293292294 2.0\n",
      "  0.33761517140362796 3 0.5037151813471605 8.0\n",
      "7 0.9429097039125192 4 1.0000000000000002 8.0\n",
      "  0.32320293202075523 2 0.6923833942917854 6.0\n",
      "8 0.5187906217433661 2 0.6747183656751137 6.0\n",
      "  0.7030189588951778 3 0.7997386223262792 8.0\n",
      "9 0.363629602379294 2 0.6747183656751137 6.0\n",
      "  0.9717820827209607 4 0.9999999999999999 9.0\n"
     ]
    },
    {
     "data": {
      "text/plain": [
       "array([[8., 9.],\n",
       "       [6., 6.],\n",
       "       [4., 6.],\n",
       "       [8., 9.],\n",
       "       [2., 9.],\n",
       "       [6., 6.],\n",
       "       [2., 8.],\n",
       "       [8., 6.],\n",
       "       [6., 8.],\n",
       "       [6., 9.]])"
      ]
     },
     "execution_count": 28,
     "metadata": {},
     "output_type": "execute_result"
    }
   ],
   "source": [
    "discrete_array = np.zeros((n,2))\n",
    "\n",
    "j_saved = 0\n",
    "for i in range(n):\n",
    "    x = np.random.random_sample()\n",
    "    y = np.random.random_sample()   \n",
    "\n",
    "    for j in range(size_discrete):\n",
    "        if x < f_x[j]:\n",
    "            #print(i, x, j,f_x[j], x_discrete[j])\n",
    "            j_saved = j\n",
    "            discrete_array[i,0] = x_discrete[j]\n",
    "            break\n",
    "        #else: print(\"smth got wrong with x\")\n",
    "    \n",
    "    for j in range(size_discrete):\n",
    "        if y < f_y[j_saved, j]:\n",
    "            discrete_array[i,1] = y_discrete[j]\n",
    "            #print(\" \", y, j, f_y[j_saved, j], y_discrete[j])\n",
    "            break\n",
    "        #else: print(\"smth got wrong with y\")\n",
    "            \n",
    "discrete_array"
   ]
  },
  {
   "cell_type": "code",
   "execution_count": 25,
   "metadata": {},
   "outputs": [
    {
     "name": "stdout",
     "output_type": "stream",
     "text": [
      "[2. 4. 6. 7. 8.] [4. 5. 6. 8. 9.]\n"
     ]
    }
   ],
   "source": [
    "print(x_discrete, y_discrete)"
   ]
  },
  {
   "cell_type": "code",
   "execution_count": null,
   "metadata": {},
   "outputs": [],
   "source": []
  }
 ],
 "metadata": {
  "kernelspec": {
   "display_name": "Python 3",
   "language": "python",
   "name": "python3"
  },
  "language_info": {
   "codemirror_mode": {
    "name": "ipython",
    "version": 3
   },
   "file_extension": ".py",
   "mimetype": "text/x-python",
   "name": "python",
   "nbconvert_exporter": "python",
   "pygments_lexer": "ipython3",
   "version": "3.7.7"
  }
 },
 "nbformat": 4,
 "nbformat_minor": 2
}
