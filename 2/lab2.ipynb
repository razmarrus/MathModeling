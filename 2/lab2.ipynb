{
 "cells": [
  {
   "cell_type": "markdown",
   "metadata": {},
   "source": [
    "# Генерация систем непрерывных и дискретных случайных величин\n",
    "\n",
    "1. Написать программу реализующую метод формирования двумерной НСВ с\n",
    "определенным распределением (согласно варианту). Выполнить статистическое\n",
    "исследование (построение гистограммы составляющих вектора, вычислить точечные\n",
    "и интервальные оценки, коэффициент корреляции и другое). Проверить гипотезы о\n",
    "соответствии полученных оценок характеристик (математическое ожидание,\n",
    "дисперсия, корреляция) случайной величины теоретическим.  \n",
    "\n"
   ]
  },
  {
   "cell_type": "code",
   "execution_count": 1,
   "metadata": {},
   "outputs": [],
   "source": [
    "import numpy as np\n",
    "from sympy import *\n",
    "\n",
    "x, y, z, t = symbols('x y z t')"
   ]
  },
  {
   "cell_type": "markdown",
   "metadata": {},
   "source": [
    "Функция плотности вероятности будет соответсововать второму варианту"
   ]
  },
  {
   "cell_type": "code",
   "execution_count": 2,
   "metadata": {},
   "outputs": [
    {
     "data": {
      "text/plain": [
       "2"
      ]
     },
     "execution_count": 2,
     "metadata": {},
     "output_type": "execute_result"
    }
   ],
   "source": [
    "7217057 % 9"
   ]
  },
  {
   "cell_type": "markdown",
   "metadata": {},
   "source": [
    "$$f(x,y) = \\frac{3*\\sin(x+y)}{4} $$"
   ]
  },
  {
   "cell_type": "code",
   "execution_count": 3,
   "metadata": {},
   "outputs": [],
   "source": [
    "def Probability_density(x, y):\n",
    "    return 3*np.sin(x+y)/4"
   ]
  },
  {
   "cell_type": "markdown",
   "metadata": {},
   "source": [
    "Для получения функция распределения (?) f(y) проинтегрируем f(x, y) по x\n",
    "$$f(y) = \\frac{3}{4}\\int_0^\\infty \\mathrm{sin(x+y)}\\mathrm{d}x$$"
   ]
  },
  {
   "cell_type": "code",
   "execution_count": 4,
   "metadata": {},
   "outputs": [
    {
     "data": {
      "text/latex": [
       "$\\displaystyle \\left\\langle -0.75, 0.75\\right\\rangle + 0.75 \\cos{\\left(y \\right)}$"
      ],
      "text/plain": [
       "AccumBounds(-0.75, 0.75) + 0.75*cos(y)"
      ]
     },
     "execution_count": 4,
     "metadata": {},
     "output_type": "execute_result"
    }
   ],
   "source": [
    "integrate(3/4*sin(x+y), (x, 0, oo))"
   ]
  },
  {
   "cell_type": "code",
   "execution_count": 5,
   "metadata": {},
   "outputs": [],
   "source": [
    "def f_y_star(y):\n",
    "    return -3/4*np.cos(y)"
   ]
  },
  {
   "cell_type": "markdown",
   "metadata": {},
   "source": [
    "Чтобы избежать погрешности в случае если x и y зависимы f(x) будем искать как: \n",
    "$$ f(x)=\\frac{f(x,y)}{f(y)}$$"
   ]
  },
  {
   "cell_type": "code",
   "execution_count": 6,
   "metadata": {},
   "outputs": [],
   "source": [
    "#integrate(3/4*sin(x)*cos(y) + 3/4*sin(y)*cos(x), (x, 0, oo))"
   ]
  },
  {
   "cell_type": "code",
   "execution_count": null,
   "metadata": {},
   "outputs": [],
   "source": [
    "def f_x_star(x,y):\n",
    "    return (3*np.sin(x+y)/4)/y"
   ]
  },
  {
   "cell_type": "code",
   "execution_count": 7,
   "metadata": {},
   "outputs": [],
   "source": [
    "n = 1000"
   ]
  },
  {
   "cell_type": "markdown",
   "metadata": {},
   "source": [
    "#### Это только 1/3 этого раздела\n",
    "*stay tuned...*"
   ]
  },
  {
   "cell_type": "code",
   "execution_count": null,
   "metadata": {},
   "outputs": [],
   "source": [
    "# outputs = np.zeros((n,n))\n",
    "\n",
    "# for i in range(n):\n",
    "#     y = np.random.random_sample()\n",
    "#     x = y = np.random.random_sample()\n",
    "#     y_output = f_y_star(y)\n",
    "#     x_output = Probability_density(x, y_output)/y_output\n",
    "#     print(x_output, y_output)"
   ]
  },
  {
   "cell_type": "code",
   "execution_count": null,
   "metadata": {},
   "outputs": [],
   "source": []
  },
  {
   "cell_type": "code",
   "execution_count": null,
   "metadata": {},
   "outputs": [],
   "source": []
  },
  {
   "cell_type": "markdown",
   "metadata": {},
   "source": [
    "2. Написать программу реализующую метод формирования двумерной ДСВ. Выполнить\n",
    "статистическое исследование (построение эмпирической матрицы распределения,\n",
    "гистограммы составляющих вектора, вычислить точечные и интервальные оценки,\n",
    "коэффициент корреляции). Проверить гипотезы о соответствии закона распределения\n",
    "полученной случайной величины требуемому. Проверить гипотезы о соответствии\n",
    "полученных оценок характеристик (математическое ожидание, дисперсия,\n",
    "корреляция) случайной величины теоретическим"
   ]
  },
  {
   "cell_type": "code",
   "execution_count": null,
   "metadata": {},
   "outputs": [],
   "source": []
  }
 ],
 "metadata": {
  "kernelspec": {
   "display_name": "Python 3",
   "language": "python",
   "name": "python3"
  },
  "language_info": {
   "codemirror_mode": {
    "name": "ipython",
    "version": 3
   },
   "file_extension": ".py",
   "mimetype": "text/x-python",
   "name": "python",
   "nbconvert_exporter": "python",
   "pygments_lexer": "ipython3",
   "version": "3.7.7"
  }
 },
 "nbformat": 4,
 "nbformat_minor": 2
}
